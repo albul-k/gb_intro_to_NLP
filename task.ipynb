{
  "nbformat": 4,
  "nbformat_minor": 0,
  "metadata": {
    "colab": {
      "name": "gb_NLP_les7.ipynb",
      "provenance": [],
      "collapsed_sections": [],
      "toc_visible": true
    },
    "kernelspec": {
      "display_name": "Python 3",
      "language": "python",
      "name": "python3"
    },
    "language_info": {
      "codemirror_mode": {
        "name": "ipython",
        "version": 3
      },
      "file_extension": ".py",
      "mimetype": "text/x-python",
      "name": "python",
      "nbconvert_exporter": "python",
      "pygments_lexer": "ipython3",
      "version": "3.8.3"
    },
    "accelerator": "GPU"
  },
  "cells": [
    {
      "cell_type": "markdown",
      "metadata": {
        "id": "V8FsvOED8UlF"
      },
      "source": [
        "# Урок 7. Сверточные нейронные сети для анализа текста\n",
        "\n",
        "Задание\n",
        "Берем отызывы за лето (из архива с материалами или предыдущего занятия)\n",
        "- Учим conv сеть для классификации\n",
        "- Рассмотреть 2-а варианта сеточек\n",
        "  - Инициализировать tf.keras.layers.Embedding предобученными векторами взять к примеру с https://rusvectores.org/ru/\n",
        "  - Инициализировать слой tf.keras.layers.Embedding по умолчанию (ну то есть вам ничего не делать с весами)\n",
        "- Сравнить две архитектуры с предобученными весами и когда tf.keras.layers.Embedding обучается сразу со всей сеточкой, что получилось лучше"
      ]
    },
    {
      "cell_type": "markdown",
      "metadata": {
        "id": "9eHK0K1Lw6nb"
      },
      "source": [
        "## Загрузка библиотек"
      ]
    },
    {
      "cell_type": "code",
      "metadata": {
        "colab": {
          "base_uri": "https://localhost:8080/"
        },
        "id": "XpMppjiRfC58",
        "outputId": "a4ed0ab7-3221-4e6b-9e74-c32f05b67b5a"
      },
      "source": [
        "!pip install stop_words pymorphy2\n",
        "\n",
        "import pandas as pd\n",
        "import numpy as np\n",
        "from sklearn.model_selection import train_test_split\n",
        "from google.colab import drive\n",
        "\n",
        "from string import punctuation\n",
        "from stop_words import get_stop_words\n",
        "from pymorphy2 import MorphAnalyzer\n",
        "import re\n",
        "\n",
        "import nltk\n",
        "from nltk.tokenize import word_tokenize\n",
        "from nltk.probability import FreqDist\n",
        "\n",
        "from gensim.models import KeyedVectors\n",
        "\n",
        "drive.mount('/content/drive')"
      ],
      "execution_count": 1,
      "outputs": [
        {
          "output_type": "stream",
          "name": "stdout",
          "text": [
            "Collecting stop_words\n",
            "  Downloading stop-words-2018.7.23.tar.gz (31 kB)\n",
            "Collecting pymorphy2\n",
            "  Downloading pymorphy2-0.9.1-py3-none-any.whl (55 kB)\n",
            "\u001b[K     |████████████████████████████████| 55 kB 1.6 MB/s \n",
            "\u001b[?25hRequirement already satisfied: docopt>=0.6 in /usr/local/lib/python3.7/dist-packages (from pymorphy2) (0.6.2)\n",
            "Collecting dawg-python>=0.7.1\n",
            "  Downloading DAWG_Python-0.7.2-py2.py3-none-any.whl (11 kB)\n",
            "Collecting pymorphy2-dicts-ru<3.0,>=2.4\n",
            "  Downloading pymorphy2_dicts_ru-2.4.417127.4579844-py2.py3-none-any.whl (8.2 MB)\n",
            "\u001b[K     |████████████████████████████████| 8.2 MB 2.0 MB/s \n",
            "\u001b[?25hBuilding wheels for collected packages: stop-words\n",
            "  Building wheel for stop-words (setup.py) ... \u001b[?25l\u001b[?25hdone\n",
            "  Created wheel for stop-words: filename=stop_words-2018.7.23-py3-none-any.whl size=32912 sha256=9aae171c288b4624540823599f61de8dcea7851e75f97cfb35e3ea3086e45f42\n",
            "  Stored in directory: /root/.cache/pip/wheels/fb/86/b2/277b10b1ce9f73ce15059bf6975d4547cc4ec3feeb651978e9\n",
            "Successfully built stop-words\n",
            "Installing collected packages: pymorphy2-dicts-ru, dawg-python, stop-words, pymorphy2\n",
            "Successfully installed dawg-python-0.7.2 pymorphy2-0.9.1 pymorphy2-dicts-ru-2.4.417127.4579844 stop-words-2018.7.23\n",
            "Mounted at /content/drive\n"
          ]
        }
      ]
    },
    {
      "cell_type": "code",
      "metadata": {
        "id": "GKqWeTUsizSI"
      },
      "source": [
        "max_words = 200\n",
        "max_len = 40\n",
        "num_classes = 5\n",
        "epochs = 20\n",
        "batch_size = 128\n",
        "print_batch_n = 100"
      ],
      "execution_count": 2,
      "outputs": []
    },
    {
      "cell_type": "code",
      "metadata": {
        "id": "LUCk-5M2yg3S"
      },
      "source": [
        "url = '/content/drive/MyDrive/Colab Notebooks/data/gb_NLP_les7_data/'\n",
        "\n",
        "df = pd.read_csv(url + 'отзывы за лето.csv')"
      ],
      "execution_count": 47,
      "outputs": []
    },
    {
      "cell_type": "code",
      "metadata": {
        "colab": {
          "base_uri": "https://localhost:8080/",
          "height": 206
        },
        "id": "KBSf-OfDzWOI",
        "outputId": "afb8b000-fb0d-4bc2-9948-be1b9363b72f"
      },
      "source": [
        "df.head()"
      ],
      "execution_count": 48,
      "outputs": [
        {
          "output_type": "execute_result",
          "data": {
            "text/html": [
              "<div>\n",
              "<style scoped>\n",
              "    .dataframe tbody tr th:only-of-type {\n",
              "        vertical-align: middle;\n",
              "    }\n",
              "\n",
              "    .dataframe tbody tr th {\n",
              "        vertical-align: top;\n",
              "    }\n",
              "\n",
              "    .dataframe thead th {\n",
              "        text-align: right;\n",
              "    }\n",
              "</style>\n",
              "<table border=\"1\" class=\"dataframe\">\n",
              "  <thead>\n",
              "    <tr style=\"text-align: right;\">\n",
              "      <th></th>\n",
              "      <th>Rating</th>\n",
              "      <th>Content</th>\n",
              "      <th>Date</th>\n",
              "    </tr>\n",
              "  </thead>\n",
              "  <tbody>\n",
              "    <tr>\n",
              "      <th>0</th>\n",
              "      <td>5</td>\n",
              "      <td>It just works!</td>\n",
              "      <td>2017-08-14</td>\n",
              "    </tr>\n",
              "    <tr>\n",
              "      <th>1</th>\n",
              "      <td>4</td>\n",
              "      <td>В целом удобноное приложение...из минусов хотя...</td>\n",
              "      <td>2017-08-14</td>\n",
              "    </tr>\n",
              "    <tr>\n",
              "      <th>2</th>\n",
              "      <td>5</td>\n",
              "      <td>Отлично все</td>\n",
              "      <td>2017-08-14</td>\n",
              "    </tr>\n",
              "    <tr>\n",
              "      <th>3</th>\n",
              "      <td>5</td>\n",
              "      <td>Стал зависать на 1% работы антивируса. Дальше ...</td>\n",
              "      <td>2017-08-14</td>\n",
              "    </tr>\n",
              "    <tr>\n",
              "      <th>4</th>\n",
              "      <td>5</td>\n",
              "      <td>Очень удобно, работает быстро.</td>\n",
              "      <td>2017-08-14</td>\n",
              "    </tr>\n",
              "  </tbody>\n",
              "</table>\n",
              "</div>"
            ],
            "text/plain": [
              "   Rating                                            Content        Date\n",
              "0       5                                     It just works!  2017-08-14\n",
              "1       4  В целом удобноное приложение...из минусов хотя...  2017-08-14\n",
              "2       5                                        Отлично все  2017-08-14\n",
              "3       5  Стал зависать на 1% работы антивируса. Дальше ...  2017-08-14\n",
              "4       5                     Очень удобно, работает быстро.  2017-08-14"
            ]
          },
          "metadata": {},
          "execution_count": 48
        }
      ]
    },
    {
      "cell_type": "markdown",
      "metadata": {
        "id": "qEyvOxoOJDTP"
      },
      "source": [
        "## Предобработка"
      ]
    },
    {
      "cell_type": "code",
      "metadata": {
        "id": "jkzLLsk7sIpq"
      },
      "source": [
        "sw = set(get_stop_words(\"ru\"))\n",
        "exclude = set(punctuation)\n",
        "morpher = MorphAnalyzer()\n",
        "\n",
        "def preprocess_text(txt):\n",
        "    txt = str(txt)\n",
        "    txt = \"\".join(c for c in txt if c not in exclude)\n",
        "    txt = txt.lower()\n",
        "    txt = re.sub(\"\\sне\", \"не\", txt)\n",
        "    txt = [morpher.parse(word)[0].normal_form for word in txt.split() if word not in sw]\n",
        "    return \" \".join(txt)\n",
        "\n",
        "df['Content'] = df['Content'].apply(preprocess_text)\n",
        "df = df[df['Content'].loc[:] != \"\"]"
      ],
      "execution_count": 49,
      "outputs": []
    },
    {
      "cell_type": "code",
      "metadata": {
        "id": "LuZtq9cwIvMt"
      },
      "source": [
        "X_train, X_test, y_train, y_test = train_test_split(\n",
        "    df['Content'],\n",
        "    df['Rating']\n",
        ")"
      ],
      "execution_count": 50,
      "outputs": []
    },
    {
      "cell_type": "code",
      "metadata": {
        "colab": {
          "base_uri": "https://localhost:8080/"
        },
        "id": "OI-NeI3bJZIj",
        "outputId": "3d89157d-6142-4bae-9bb7-04569dae9ca8"
      },
      "source": [
        "X_train.head(10)"
      ],
      "execution_count": 51,
      "outputs": [
        {
          "output_type": "execute_result",
          "data": {
            "text/plain": [
              "12004                                                норма\n",
              "5323     приложениен плохой проблема вход приходиться д...\n",
              "16819    чертовый антивирус блокировать фига возможност...\n",
              "7828     обновление введение ключ выдавать сообщение от...\n",
              "9919                     удобный привязка телефонный книга\n",
              "9980                            приложение быстрый удобный\n",
              "4352                                      работать отлично\n",
              "370      приложение работать дажена запускаться антивир...\n",
              "11897          мочь зайти приложениеслетаетний поймупочему\n",
              "3957     дать возможность использовать приложение гориз...\n",
              "Name: Content, dtype: object"
            ]
          },
          "metadata": {},
          "execution_count": 51
        }
      ]
    },
    {
      "cell_type": "code",
      "metadata": {
        "id": "C4o9QgmWI3Pw",
        "colab": {
          "base_uri": "https://localhost:8080/"
        },
        "outputId": "aefac432-7f34-4284-8acc-e86df4347fd8"
      },
      "source": [
        "nltk.download(\"punkt\")\n",
        "\n",
        "train_corpus = \" \".join(X_train)\n",
        "tokens = word_tokenize(train_corpus)"
      ],
      "execution_count": 52,
      "outputs": [
        {
          "output_type": "stream",
          "name": "stdout",
          "text": [
            "[nltk_data] Downloading package punkt to /root/nltk_data...\n",
            "[nltk_data]   Package punkt is already up-to-date!\n"
          ]
        }
      ]
    },
    {
      "cell_type": "markdown",
      "metadata": {
        "id": "yJ8T0fwYJYJX"
      },
      "source": [
        "## Фильтрация"
      ]
    },
    {
      "cell_type": "code",
      "metadata": {
        "id": "EXOLVK1tJLT8"
      },
      "source": [
        "tokens_filtered = [word for word in tokens if word.isalnum()]"
      ],
      "execution_count": 53,
      "outputs": []
    },
    {
      "cell_type": "code",
      "metadata": {
        "id": "8qCQH5nIJoiB"
      },
      "source": [
        "dist = FreqDist(tokens_filtered)\n",
        "tokens_filtered_top = [pair[0] for pair in dist.most_common(max_words-1)]"
      ],
      "execution_count": 54,
      "outputs": []
    },
    {
      "cell_type": "code",
      "metadata": {
        "colab": {
          "base_uri": "https://localhost:8080/"
        },
        "id": "bRQ-6wwjJrGo",
        "outputId": "6fea131e-3e62-4db9-f3cb-e7f9691597a2"
      },
      "source": [
        "tokens_filtered_top[:10]"
      ],
      "execution_count": 55,
      "outputs": [
        {
          "output_type": "execute_result",
          "data": {
            "text/plain": [
              "['приложение',\n",
              " 'удобно',\n",
              " 'работать',\n",
              " 'удобный',\n",
              " 'отлично',\n",
              " 'нравиться',\n",
              " 'отличный',\n",
              " 'хороший',\n",
              " 'телефон',\n",
              " 'супер']"
            ]
          },
          "metadata": {},
          "execution_count": 55
        }
      ]
    },
    {
      "cell_type": "code",
      "metadata": {
        "id": "Tdk777qGJtz4"
      },
      "source": [
        "vocabulary = {v: k for k, v in dict(enumerate(tokens_filtered_top, 1)).items()}"
      ],
      "execution_count": 56,
      "outputs": []
    },
    {
      "cell_type": "code",
      "metadata": {
        "id": "5OULZgvkJzpj"
      },
      "source": [
        "def text_to_sequence(text, maxlen):\n",
        "    result = []\n",
        "    tokens = word_tokenize(text.lower())\n",
        "    tokens_filtered = [word for word in tokens if word.isalnum()]\n",
        "    for word in tokens_filtered:\n",
        "        if word in vocabulary:\n",
        "            result.append(vocabulary[word])\n",
        "    padding = [0]*(maxlen-len(result))\n",
        "    return padding + result[-maxlen:]"
      ],
      "execution_count": 13,
      "outputs": []
    },
    {
      "cell_type": "code",
      "metadata": {
        "id": "pqHlf5nNJ2hl"
      },
      "source": [
        "X_train = np.asarray([text_to_sequence(text, max_len) for text in X_train], dtype=np.int32)\n",
        "X_test = np.asarray([text_to_sequence(text, max_len) for text in X_test], dtype=np.int32)"
      ],
      "execution_count": 57,
      "outputs": []
    },
    {
      "cell_type": "code",
      "metadata": {
        "colab": {
          "base_uri": "https://localhost:8080/"
        },
        "id": "lI4NUg_TJ6NK",
        "outputId": "01d933d2-c969-447b-fc98-aa4a5e73ceb5"
      },
      "source": [
        "X_train.shape"
      ],
      "execution_count": 58,
      "outputs": [
        {
          "output_type": "execute_result",
          "data": {
            "text/plain": [
              "(15031, 40)"
            ]
          },
          "metadata": {},
          "execution_count": 58
        }
      ]
    },
    {
      "cell_type": "code",
      "metadata": {
        "colab": {
          "base_uri": "https://localhost:8080/"
        },
        "id": "9QlLvXd9KDf3",
        "outputId": "96591be1-a7e1-489c-982f-60a8c9645620"
      },
      "source": [
        "X_train[1]"
      ],
      "execution_count": 60,
      "outputs": [
        {
          "output_type": "execute_result",
          "data": {
            "text/plain": [
              "array([  0,   0,   0,   0,   0,   0,   0,   0,   0,   0,   0,   0,   0,\n",
              "         0,   0,   0,   0,   0,   0,   0,   0,   0,   0,   0,   0,   0,\n",
              "         0,   0,   0,   0,   0,  85, 121,  24,  19,  34, 179,  36,  47,\n",
              "        14], dtype=int32)"
            ]
          },
          "metadata": {},
          "execution_count": 60
        }
      ]
    },
    {
      "cell_type": "markdown",
      "metadata": {
        "id": "cKfNHYQcsIp0"
      },
      "source": [
        "## Keras model (default)"
      ]
    },
    {
      "cell_type": "code",
      "metadata": {
        "id": "0fl0eHJusIp1"
      },
      "source": [
        "import keras\n",
        "from keras.models import Sequential, Model\n",
        "from keras.layers import Dense, Dropout, Activation, Input, Embedding, Conv1D, GlobalMaxPool1D\n",
        "from keras.preprocessing.text import Tokenizer\n",
        "from keras.preprocessing.sequence import pad_sequences\n",
        "from keras.utils.np_utils import to_categorical\n",
        "from keras.callbacks import EarlyStopping"
      ],
      "execution_count": 18,
      "outputs": []
    },
    {
      "cell_type": "code",
      "metadata": {
        "id": "cwSAxR-ssIp1"
      },
      "source": [
        "def change_category(y):\n",
        "  return [cat - 1 for cat in y]\n",
        "\n",
        "y_train = change_category(y_train)\n",
        "y_test = change_category(y_test)"
      ],
      "execution_count": 61,
      "outputs": []
    },
    {
      "cell_type": "code",
      "metadata": {
        "colab": {
          "base_uri": "https://localhost:8080/"
        },
        "id": "aZybum1dOnzp",
        "outputId": "7949c083-1afd-4967-b216-e5dd7af13f90"
      },
      "source": [
        "y_train = to_categorical(y_train, num_classes)\n",
        "y_test = to_categorical(y_test, num_classes)\n",
        "\n",
        "y_train[0]"
      ],
      "execution_count": 62,
      "outputs": [
        {
          "output_type": "execute_result",
          "data": {
            "text/plain": [
              "array([0., 0., 0., 0., 1.], dtype=float32)"
            ]
          },
          "metadata": {},
          "execution_count": 62
        }
      ]
    },
    {
      "cell_type": "code",
      "metadata": {
        "id": "u2i_QrhssIp2"
      },
      "source": [
        "model = Sequential()\n",
        "model.add(Embedding(input_dim=max_words, output_dim=128, input_length=max_len))\n",
        "model.add(Conv1D(128, 3))\n",
        "model.add(Activation(\"relu\"))\n",
        "model.add(GlobalMaxPool1D())\n",
        "model.add(Dense(10))\n",
        "model.add(Activation(\"relu\"))\n",
        "model.add(Dense(num_classes))\n",
        "model.add(Activation('softmax'))\n",
        "\n",
        "model.compile(loss='categorical_crossentropy',\n",
        "              optimizer='adam',\n",
        "              metrics=['accuracy'])"
      ],
      "execution_count": 63,
      "outputs": []
    },
    {
      "cell_type": "code",
      "metadata": {
        "id": "2M4yzAabsIp2",
        "colab": {
          "base_uri": "https://localhost:8080/"
        },
        "outputId": "45a692d9-b8fc-4ea7-f7f1-3fb4ba8671cc"
      },
      "source": [
        "history = model.fit(X_train, y_train,\n",
        "                    batch_size=batch_size,\n",
        "                    epochs=epochs,\n",
        "                    verbose=1,\n",
        "                    validation_split=0.1)"
      ],
      "execution_count": 64,
      "outputs": [
        {
          "output_type": "stream",
          "name": "stdout",
          "text": [
            "Epoch 1/20\n",
            "106/106 [==============================] - 2s 12ms/step - loss: 0.9208 - accuracy: 0.7172 - val_loss: 0.7200 - val_accuracy: 0.7513\n",
            "Epoch 2/20\n",
            "106/106 [==============================] - 1s 10ms/step - loss: 0.6928 - accuracy: 0.7610 - val_loss: 0.6972 - val_accuracy: 0.7547\n",
            "Epoch 3/20\n",
            "106/106 [==============================] - 1s 9ms/step - loss: 0.6668 - accuracy: 0.7691 - val_loss: 0.6971 - val_accuracy: 0.7560\n",
            "Epoch 4/20\n",
            "106/106 [==============================] - 1s 10ms/step - loss: 0.6522 - accuracy: 0.7729 - val_loss: 0.6929 - val_accuracy: 0.7527\n",
            "Epoch 5/20\n",
            "106/106 [==============================] - 1s 9ms/step - loss: 0.6397 - accuracy: 0.7770 - val_loss: 0.6975 - val_accuracy: 0.7493\n",
            "Epoch 6/20\n",
            "106/106 [==============================] - 1s 9ms/step - loss: 0.6290 - accuracy: 0.7797 - val_loss: 0.7010 - val_accuracy: 0.7533\n",
            "Epoch 7/20\n",
            "106/106 [==============================] - 1s 9ms/step - loss: 0.6179 - accuracy: 0.7852 - val_loss: 0.7032 - val_accuracy: 0.7533\n",
            "Epoch 8/20\n",
            "106/106 [==============================] - 1s 9ms/step - loss: 0.6064 - accuracy: 0.7898 - val_loss: 0.7033 - val_accuracy: 0.7493\n",
            "Epoch 9/20\n",
            "106/106 [==============================] - 1s 9ms/step - loss: 0.5934 - accuracy: 0.7963 - val_loss: 0.7085 - val_accuracy: 0.7427\n",
            "Epoch 10/20\n",
            "106/106 [==============================] - 1s 10ms/step - loss: 0.5802 - accuracy: 0.8037 - val_loss: 0.7144 - val_accuracy: 0.7507\n",
            "Epoch 11/20\n",
            "106/106 [==============================] - 1s 9ms/step - loss: 0.5656 - accuracy: 0.8091 - val_loss: 0.7294 - val_accuracy: 0.7380\n",
            "Epoch 12/20\n",
            "106/106 [==============================] - 1s 9ms/step - loss: 0.5503 - accuracy: 0.8168 - val_loss: 0.7421 - val_accuracy: 0.7414\n",
            "Epoch 13/20\n",
            "106/106 [==============================] - 1s 9ms/step - loss: 0.5343 - accuracy: 0.8244 - val_loss: 0.7481 - val_accuracy: 0.7414\n",
            "Epoch 14/20\n",
            "106/106 [==============================] - 1s 9ms/step - loss: 0.5166 - accuracy: 0.8324 - val_loss: 0.7674 - val_accuracy: 0.7394\n",
            "Epoch 15/20\n",
            "106/106 [==============================] - 1s 9ms/step - loss: 0.4987 - accuracy: 0.8405 - val_loss: 0.7741 - val_accuracy: 0.7340\n",
            "Epoch 16/20\n",
            "106/106 [==============================] - 1s 9ms/step - loss: 0.4832 - accuracy: 0.8475 - val_loss: 0.7909 - val_accuracy: 0.7367\n",
            "Epoch 17/20\n",
            "106/106 [==============================] - 1s 9ms/step - loss: 0.4626 - accuracy: 0.8555 - val_loss: 0.8255 - val_accuracy: 0.7354\n",
            "Epoch 18/20\n",
            "106/106 [==============================] - 1s 9ms/step - loss: 0.4436 - accuracy: 0.8640 - val_loss: 0.8363 - val_accuracy: 0.7320\n",
            "Epoch 19/20\n",
            "106/106 [==============================] - 1s 9ms/step - loss: 0.4276 - accuracy: 0.8686 - val_loss: 0.8642 - val_accuracy: 0.7347\n",
            "Epoch 20/20\n",
            "106/106 [==============================] - 1s 9ms/step - loss: 0.4129 - accuracy: 0.8767 - val_loss: 0.9106 - val_accuracy: 0.7294\n"
          ]
        }
      ]
    },
    {
      "cell_type": "code",
      "metadata": {
        "id": "XELRRRJNsIp4",
        "colab": {
          "base_uri": "https://localhost:8080/"
        },
        "outputId": "acf37b18-2e4b-41c7-c5bb-0330fd23ead5"
      },
      "source": [
        "score = model.evaluate(X_test, y_test, batch_size=batch_size, verbose=1)\n",
        "\n",
        "print('\\n')\n",
        "print('Test score:', score[0])\n",
        "print('Test accuracy:', score[1])"
      ],
      "execution_count": 65,
      "outputs": [
        {
          "output_type": "stream",
          "name": "stdout",
          "text": [
            "40/40 [==============================] - 0s 4ms/step - loss: 0.8213 - accuracy: 0.7533\n",
            "\n",
            "\n",
            "Test score: 0.8212544918060303\n",
            "Test accuracy: 0.7533426284790039\n"
          ]
        }
      ]
    },
    {
      "cell_type": "markdown",
      "metadata": {
        "id": "L1QY9g0OmfOE"
      },
      "source": [
        "## Keras model with weights"
      ]
    },
    {
      "cell_type": "code",
      "metadata": {
        "id": "RtqppQGcsr3V"
      },
      "source": [
        "embedding_matrix = KeyedVectors.load_word2vec_format(url + 'tayga_1_2.vec')"
      ],
      "execution_count": 25,
      "outputs": []
    },
    {
      "cell_type": "code",
      "metadata": {
        "id": "7pKhY172cWoV"
      },
      "source": [
        "# embedding_matrix.vocab"
      ],
      "execution_count": 34,
      "outputs": []
    },
    {
      "cell_type": "code",
      "metadata": {
        "id": "moYQboGrTfKn"
      },
      "source": [
        "vocabulary = embedding_matrix.vocab"
      ],
      "execution_count": 66,
      "outputs": []
    },
    {
      "cell_type": "code",
      "metadata": {
        "id": "aTT_00KrUFOx"
      },
      "source": [
        "X_train, X_test, y_train, y_test = train_test_split(df['Content'], df['Rating'])\n",
        "\n",
        "X_train = X_train.apply(preprocess_text)\n",
        "X_test = X_test.apply(preprocess_text)\n",
        "\n",
        "X_train = np.asarray([text_to_sequence(text, max_len) for text in X_train], dtype=np.int32)\n",
        "X_test = np.asarray([text_to_sequence(text, max_len) for text in X_test], dtype=np.int32)\n",
        "\n",
        "y_train = change_category(y_train)\n",
        "y_test = change_category(y_test)\n",
        "\n",
        "y_train = to_categorical(y_train, num_classes)\n",
        "y_test = to_categorical(y_test, num_classes)"
      ],
      "execution_count": 67,
      "outputs": []
    },
    {
      "cell_type": "code",
      "metadata": {
        "id": "GfpLMwWsUXmP"
      },
      "source": [
        "model_emb = Sequential()\n",
        "model_emb.add(Embedding(input_dim=max_words, output_dim=128, input_length=max_len))\n",
        "model_emb.add(Conv1D(128, 3))\n",
        "model_emb.add(Activation(\"relu\"))\n",
        "model_emb.add(GlobalMaxPool1D())\n",
        "model_emb.add(Dense(10))\n",
        "model_emb.add(Activation(\"relu\"))\n",
        "model_emb.add(Dense(num_classes))\n",
        "model_emb.add(Activation('softmax'))\n",
        "\n",
        "model_emb.compile(loss='categorical_crossentropy',\n",
        "              optimizer='adam',\n",
        "              metrics=['accuracy'])"
      ],
      "execution_count": 68,
      "outputs": []
    },
    {
      "cell_type": "code",
      "metadata": {
        "colab": {
          "base_uri": "https://localhost:8080/"
        },
        "id": "M7pvMpvDUh9B",
        "outputId": "7bb2eeaa-2b42-41e5-fa76-aaa9a15756a0"
      },
      "source": [
        "history_emb = model_emb.fit(X_train, y_train,\n",
        "                    batch_size=batch_size,\n",
        "                    epochs=epochs,\n",
        "                    verbose=1,\n",
        "                    validation_split=0.1)"
      ],
      "execution_count": 69,
      "outputs": [
        {
          "output_type": "stream",
          "name": "stdout",
          "text": [
            "Epoch 1/20\n",
            "106/106 [==============================] - 2s 12ms/step - loss: 1.0969 - accuracy: 0.7030 - val_loss: 0.9979 - val_accuracy: 0.7001\n",
            "Epoch 2/20\n",
            "106/106 [==============================] - 1s 9ms/step - loss: 0.9910 - accuracy: 0.7030 - val_loss: 0.9989 - val_accuracy: 0.7001\n",
            "Epoch 3/20\n",
            "106/106 [==============================] - 1s 10ms/step - loss: 0.9913 - accuracy: 0.7030 - val_loss: 0.9982 - val_accuracy: 0.7001\n",
            "Epoch 4/20\n",
            "106/106 [==============================] - 1s 9ms/step - loss: 0.9913 - accuracy: 0.7030 - val_loss: 0.9992 - val_accuracy: 0.7001\n",
            "Epoch 5/20\n",
            "106/106 [==============================] - 1s 9ms/step - loss: 0.9911 - accuracy: 0.7030 - val_loss: 1.0010 - val_accuracy: 0.7001\n",
            "Epoch 6/20\n",
            "106/106 [==============================] - 1s 9ms/step - loss: 0.9907 - accuracy: 0.7030 - val_loss: 1.0006 - val_accuracy: 0.7001\n",
            "Epoch 7/20\n",
            "106/106 [==============================] - 1s 9ms/step - loss: 0.9907 - accuracy: 0.7030 - val_loss: 0.9993 - val_accuracy: 0.7001\n",
            "Epoch 8/20\n",
            "106/106 [==============================] - 1s 9ms/step - loss: 0.9911 - accuracy: 0.7030 - val_loss: 0.9999 - val_accuracy: 0.7001\n",
            "Epoch 9/20\n",
            "106/106 [==============================] - 1s 9ms/step - loss: 0.9904 - accuracy: 0.7030 - val_loss: 0.9984 - val_accuracy: 0.7001\n",
            "Epoch 10/20\n",
            "106/106 [==============================] - 1s 10ms/step - loss: 0.9915 - accuracy: 0.7030 - val_loss: 1.0006 - val_accuracy: 0.7001\n",
            "Epoch 11/20\n",
            "106/106 [==============================] - 1s 9ms/step - loss: 0.9912 - accuracy: 0.7030 - val_loss: 0.9971 - val_accuracy: 0.7001\n",
            "Epoch 12/20\n",
            "106/106 [==============================] - 1s 9ms/step - loss: 0.9909 - accuracy: 0.7030 - val_loss: 0.9977 - val_accuracy: 0.7001\n",
            "Epoch 13/20\n",
            "106/106 [==============================] - 1s 9ms/step - loss: 0.9916 - accuracy: 0.7030 - val_loss: 0.9978 - val_accuracy: 0.7001\n",
            "Epoch 14/20\n",
            "106/106 [==============================] - 1s 10ms/step - loss: 0.9913 - accuracy: 0.7030 - val_loss: 0.9984 - val_accuracy: 0.7001\n",
            "Epoch 15/20\n",
            "106/106 [==============================] - 1s 9ms/step - loss: 0.9907 - accuracy: 0.7030 - val_loss: 0.9991 - val_accuracy: 0.7001\n",
            "Epoch 16/20\n",
            "106/106 [==============================] - 1s 9ms/step - loss: 0.9908 - accuracy: 0.7030 - val_loss: 0.9984 - val_accuracy: 0.7001\n",
            "Epoch 17/20\n",
            "106/106 [==============================] - 1s 9ms/step - loss: 0.9925 - accuracy: 0.7030 - val_loss: 0.9978 - val_accuracy: 0.7001\n",
            "Epoch 18/20\n",
            "106/106 [==============================] - 1s 10ms/step - loss: 0.9909 - accuracy: 0.7030 - val_loss: 0.9978 - val_accuracy: 0.7001\n",
            "Epoch 19/20\n",
            "106/106 [==============================] - 1s 9ms/step - loss: 0.9911 - accuracy: 0.7030 - val_loss: 0.9990 - val_accuracy: 0.7001\n",
            "Epoch 20/20\n",
            "106/106 [==============================] - 1s 9ms/step - loss: 0.9918 - accuracy: 0.7030 - val_loss: 0.9981 - val_accuracy: 0.7001\n"
          ]
        }
      ]
    },
    {
      "cell_type": "code",
      "metadata": {
        "colab": {
          "base_uri": "https://localhost:8080/"
        },
        "id": "uxZ5HSDVUmUa",
        "outputId": "cf33662e-ef08-449b-82bd-0555f33db7f0"
      },
      "source": [
        "score = model_emb.evaluate(X_test, y_test, batch_size=batch_size, verbose=1)\n",
        "\n",
        "print('\\n')\n",
        "print('Test score:', score[0])\n",
        "print('Test accuracy:', score[1])"
      ],
      "execution_count": 70,
      "outputs": [
        {
          "output_type": "stream",
          "name": "stdout",
          "text": [
            "40/40 [==============================] - 0s 4ms/step - loss: 1.0000 - accuracy: 0.6959\n",
            "\n",
            "\n",
            "Test score: 1.0000011920928955\n",
            "Test accuracy: 0.6958690881729126\n"
          ]
        }
      ]
    },
    {
      "cell_type": "markdown",
      "metadata": {
        "id": "I_3pjSZefncv"
      },
      "source": [
        "## Вывод\n",
        "\n",
        "* Keras default = 0.75\n",
        "* Keras with loaded weights = 0.69"
      ]
    }
  ]
}