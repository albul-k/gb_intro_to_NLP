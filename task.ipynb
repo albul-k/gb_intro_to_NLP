{
  "nbformat": 4,
  "nbformat_minor": 0,
  "metadata": {
    "colab": {
      "name": "gb_NLP_les9.ipynb",
      "provenance": [],
      "collapsed_sections": [],
      "toc_visible": true
    },
    "kernelspec": {
      "name": "python3",
      "display_name": "Python 3"
    },
    "language_info": {
      "name": "python"
    },
    "accelerator": "GPU"
  },
  "cells": [
    {
      "cell_type": "markdown",
      "metadata": {
        "id": "IzFPvShYUcWQ"
      },
      "source": [
        "# Урок 9. Языковое моделирование\n",
        "\n",
        "## Задание\n",
        "\n",
        "* Разобраться с моделькой генерации текста, собрать самим или взять датасет с вебинара и обучить генератор"
      ]
    },
    {
      "cell_type": "code",
      "metadata": {
        "colab": {
          "base_uri": "https://localhost:8080/"
        },
        "id": "ueFDFYbHUkXg",
        "outputId": "8797db09-db8c-47d6-bf30-011fe0616bea"
      },
      "source": [
        "import tensorflow as tf\n",
        "\n",
        "import numpy as np\n",
        "import os\n",
        "import time\n",
        "\n",
        "from google.colab import drive\n",
        "drive.mount('/content/drive')"
      ],
      "execution_count": 1,
      "outputs": [
        {
          "output_type": "stream",
          "name": "stdout",
          "text": [
            "Mounted at /content/drive\n"
          ]
        }
      ]
    },
    {
      "cell_type": "code",
      "metadata": {
        "colab": {
          "base_uri": "https://localhost:8080/"
        },
        "id": "7WMHsf-pVGN5",
        "outputId": "a6e02025-108e-4380-a08d-a3c9bea6981f"
      },
      "source": [
        "path = '/content/drive/MyDrive/Colab Notebooks/data/gb_NLP_les9_data/evgenyi_onegin (2).txt'\n",
        "\n",
        "with open(path, 'rb') as file:\n",
        "  text = file.read().decode(encoding='utf-8')\n",
        "\n",
        "print('Length of text: {} characters'.format(len(text)))"
      ],
      "execution_count": 2,
      "outputs": [
        {
          "output_type": "stream",
          "name": "stdout",
          "text": [
            "Length of text: 286984 characters\n"
          ]
        }
      ]
    },
    {
      "cell_type": "code",
      "metadata": {
        "colab": {
          "base_uri": "https://localhost:8080/"
        },
        "id": "85hDPWoLVMzy",
        "outputId": "2b9c0a39-3c03-4398-d263-8249ee4859c0"
      },
      "source": [
        "vocab = sorted(set(text))\n",
        "print('{} unique characters'.format(len(vocab)))"
      ],
      "execution_count": 3,
      "outputs": [
        {
          "output_type": "stream",
          "name": "stdout",
          "text": [
            "131 unique characters\n"
          ]
        }
      ]
    },
    {
      "cell_type": "code",
      "metadata": {
        "id": "vVQXukwGVP2F"
      },
      "source": [
        "# Creating a mapping from unique characters to indices\n",
        "char2idx = {u:i for i, u in enumerate(vocab)}\n",
        "idx2char = np.array(vocab)\n",
        "\n",
        "text_as_int = np.array([char2idx[c] for c in text])"
      ],
      "execution_count": 4,
      "outputs": []
    },
    {
      "cell_type": "code",
      "metadata": {
        "colab": {
          "base_uri": "https://localhost:8080/"
        },
        "id": "jIHHkfPGVfYa",
        "outputId": "b35c153a-881b-4715-e3f8-a3cfe63ac0a4"
      },
      "source": [
        "# The maximum length sentence you want for a single input in characters\n",
        "seq_length = 100\n",
        "examples_per_epoch = len(text) // (seq_length+1)\n",
        "\n",
        "# Create training examples / targets\n",
        "char_dataset = tf.data.Dataset.from_tensor_slices(text_as_int)\n",
        "\n",
        "for i in char_dataset.take(5):\n",
        "    print(idx2char[i.numpy()])"
      ],
      "execution_count": 5,
      "outputs": [
        {
          "output_type": "stream",
          "name": "stdout",
          "text": [
            "А\n",
            "л\n",
            "е\n",
            "к\n",
            "с\n"
          ]
        }
      ]
    },
    {
      "cell_type": "code",
      "metadata": {
        "colab": {
          "base_uri": "https://localhost:8080/"
        },
        "id": "E6zWzU6mVpbi",
        "outputId": "8966b292-90a6-47f6-bc8d-d6d38bbf71fa"
      },
      "source": [
        "sequences = char_dataset.batch(seq_length+1, drop_remainder=True)\n",
        "\n",
        "for item in sequences.take(5):\n",
        "    print(repr(''.join(idx2char[item.numpy()])))"
      ],
      "execution_count": 6,
      "outputs": [
        {
          "output_type": "stream",
          "name": "stdout",
          "text": [
            "'Александр Сергеевич Пушкин\\n\\n                                Евгений Онегин\\n                          '\n",
            "'      Роман в стихах\\n\\n                        Не мысля гордый свет забавить,\\n                        '\n",
            "'Вниманье дружбы возлюбя,\\n                        Хотел бы я тебе представить\\n                        '\n",
            "'Залог достойнее тебя,\\n                        Достойнее души прекрасной,\\n                        Свят'\n",
            "'ой исполненной мечты,\\n                        Поэзии живой и ясной,\\n                        Высоких д'\n"
          ]
        }
      ]
    },
    {
      "cell_type": "code",
      "metadata": {
        "id": "M_sG8oEIVrDG"
      },
      "source": [
        "def split_input_target(chunk):\n",
        "    input_text = chunk[:-1]\n",
        "    target_text = chunk[1:]\n",
        "    return input_text, target_text\n",
        "\n",
        "dataset = sequences.map(split_input_target)"
      ],
      "execution_count": 7,
      "outputs": []
    },
    {
      "cell_type": "code",
      "metadata": {
        "colab": {
          "base_uri": "https://localhost:8080/"
        },
        "id": "Fo5NgPv5VsnD",
        "outputId": "2a312fe9-eabf-486d-8c01-7e1c81337da5"
      },
      "source": [
        "for input_example, target_example in  dataset.take(1):\n",
        "    print('Input data: ', repr(''.join(idx2char[input_example.numpy()])))\n",
        "    print('Target data:', repr(''.join(idx2char[target_example.numpy()])))"
      ],
      "execution_count": 8,
      "outputs": [
        {
          "output_type": "stream",
          "name": "stdout",
          "text": [
            "Input data:  'Александр Сергеевич Пушкин\\n\\n                                Евгений Онегин\\n                         '\n",
            "Target data: 'лександр Сергеевич Пушкин\\n\\n                                Евгений Онегин\\n                          '\n"
          ]
        }
      ]
    },
    {
      "cell_type": "code",
      "metadata": {
        "colab": {
          "base_uri": "https://localhost:8080/"
        },
        "id": "zgE0QYLWVt9l",
        "outputId": "162de224-fa33-43b6-f3b0-af57840791d9"
      },
      "source": [
        "# Batch size\n",
        "BATCH_SIZE = 64\n",
        "\n",
        "# Buffer size to shuffle the dataset\n",
        "# (TF data is designed to work with possibly infinite sequences,\n",
        "# so it doesn't attempt to shuffle the entire sequence in memory. Instead,\n",
        "# it maintains a buffer in which it shuffles elements).\n",
        "BUFFER_SIZE = 10000\n",
        "\n",
        "dataset = dataset.shuffle(BUFFER_SIZE).batch(BATCH_SIZE, drop_remainder=True)\n",
        "\n",
        "dataset"
      ],
      "execution_count": 9,
      "outputs": [
        {
          "output_type": "execute_result",
          "data": {
            "text/plain": [
              "<BatchDataset shapes: ((64, 100), (64, 100)), types: (tf.int64, tf.int64)>"
            ]
          },
          "metadata": {},
          "execution_count": 9
        }
      ]
    },
    {
      "cell_type": "code",
      "metadata": {
        "id": "qXdb1a2eVvmr"
      },
      "source": [
        "# Length of the vocabulary in chars\n",
        "vocab_size = len(vocab)\n",
        "\n",
        "# The embedding dimension\n",
        "embedding_dim = 128\n",
        "\n",
        "# Number of RNN units\n",
        "rnn_units = 1024"
      ],
      "execution_count": 10,
      "outputs": []
    },
    {
      "cell_type": "code",
      "metadata": {
        "id": "yjA6HSdHVxDn"
      },
      "source": [
        "model = tf.keras.Sequential(\n",
        "    [\n",
        "        tf.keras.layers.Embedding(vocab_size, embedding_dim),\n",
        "        tf.keras.layers.LSTM(rnn_units, return_sequences=True),\n",
        "        tf.keras.layers.Dense(vocab_size)\n",
        "    ]\n",
        ")"
      ],
      "execution_count": 11,
      "outputs": []
    },
    {
      "cell_type": "markdown",
      "metadata": {
        "id": "-CAJp1DerSwk"
      },
      "source": [
        "## LSTM модель"
      ]
    },
    {
      "cell_type": "code",
      "metadata": {
        "id": "C7PEd60-nZwM"
      },
      "source": [
        "def build_model(vocab_size, embedding_dim, rnn_units, batch_size):\n",
        "    model = tf.keras.Sequential([\n",
        "        tf.keras.layers.Embedding(vocab_size, embedding_dim,\n",
        "                                  batch_input_shape=[batch_size, None]),\n",
        "                                 \n",
        "        tf.keras.layers.LSTM(rnn_units,\n",
        "                            return_sequences=True,\n",
        "                            stateful=True,\n",
        "                            recurrent_initializer='glorot_uniform'),\n",
        "\n",
        "        tf.keras.layers.LSTM(rnn_units,\n",
        "                            return_sequences=True,\n",
        "                            stateful=True,\n",
        "                            recurrent_initializer='glorot_uniform'),\n",
        "\n",
        "         tf.keras.layers.LSTM(rnn_units,\n",
        "                            return_sequences=True,\n",
        "                            stateful=True,\n",
        "                            recurrent_initializer='glorot_uniform'),\n",
        "        \n",
        "        tf.keras.layers.LSTM(rnn_units,\n",
        "                            return_sequences=True,\n",
        "                            stateful=True,\n",
        "                            recurrent_initializer='glorot_uniform'),\n",
        "                                   \n",
        "        tf.keras.layers.Dense(vocab_size)\n",
        "    ])\n",
        "    return model"
      ],
      "execution_count": 39,
      "outputs": []
    },
    {
      "cell_type": "code",
      "metadata": {
        "colab": {
          "base_uri": "https://localhost:8080/"
        },
        "id": "sSxh_sWvV8Lx",
        "outputId": "a62ff7ae-ac1c-4d69-cf3c-9fa89679d98a"
      },
      "source": [
        "model = build_model(\n",
        "    vocab_size=len(vocab),\n",
        "    embedding_dim=embedding_dim,\n",
        "    rnn_units=rnn_units,\n",
        "    batch_size=BATCH_SIZE)"
      ],
      "execution_count": 40,
      "outputs": [
        {
          "output_type": "stream",
          "name": "stdout",
          "text": [
            "WARNING:tensorflow:Unresolved object in checkpoint: (root).optimizer\n",
            "WARNING:tensorflow:Unresolved object in checkpoint: (root).optimizer.iter\n",
            "WARNING:tensorflow:Unresolved object in checkpoint: (root).optimizer.beta_1\n",
            "WARNING:tensorflow:Unresolved object in checkpoint: (root).optimizer.beta_2\n",
            "WARNING:tensorflow:Unresolved object in checkpoint: (root).optimizer.decay\n",
            "WARNING:tensorflow:Unresolved object in checkpoint: (root).optimizer.learning_rate\n",
            "WARNING:tensorflow:Unresolved object in checkpoint: (root).optimizer's state 'm' for (root).layer_with_weights-0.embeddings\n",
            "WARNING:tensorflow:Unresolved object in checkpoint: (root).optimizer's state 'm' for (root).layer_with_weights-4.kernel\n",
            "WARNING:tensorflow:Unresolved object in checkpoint: (root).optimizer's state 'm' for (root).layer_with_weights-4.bias\n",
            "WARNING:tensorflow:Unresolved object in checkpoint: (root).optimizer's state 'm' for (root).layer_with_weights-1.cell.kernel\n",
            "WARNING:tensorflow:Unresolved object in checkpoint: (root).optimizer's state 'm' for (root).layer_with_weights-1.cell.recurrent_kernel\n",
            "WARNING:tensorflow:Unresolved object in checkpoint: (root).optimizer's state 'm' for (root).layer_with_weights-1.cell.bias\n",
            "WARNING:tensorflow:Unresolved object in checkpoint: (root).optimizer's state 'm' for (root).layer_with_weights-2.cell.kernel\n",
            "WARNING:tensorflow:Unresolved object in checkpoint: (root).optimizer's state 'm' for (root).layer_with_weights-2.cell.recurrent_kernel\n",
            "WARNING:tensorflow:Unresolved object in checkpoint: (root).optimizer's state 'm' for (root).layer_with_weights-2.cell.bias\n",
            "WARNING:tensorflow:Unresolved object in checkpoint: (root).optimizer's state 'm' for (root).layer_with_weights-3.cell.kernel\n",
            "WARNING:tensorflow:Unresolved object in checkpoint: (root).optimizer's state 'm' for (root).layer_with_weights-3.cell.recurrent_kernel\n",
            "WARNING:tensorflow:Unresolved object in checkpoint: (root).optimizer's state 'm' for (root).layer_with_weights-3.cell.bias\n",
            "WARNING:tensorflow:Unresolved object in checkpoint: (root).optimizer's state 'v' for (root).layer_with_weights-0.embeddings\n",
            "WARNING:tensorflow:Unresolved object in checkpoint: (root).optimizer's state 'v' for (root).layer_with_weights-4.kernel\n",
            "WARNING:tensorflow:Unresolved object in checkpoint: (root).optimizer's state 'v' for (root).layer_with_weights-4.bias\n",
            "WARNING:tensorflow:Unresolved object in checkpoint: (root).optimizer's state 'v' for (root).layer_with_weights-1.cell.kernel\n",
            "WARNING:tensorflow:Unresolved object in checkpoint: (root).optimizer's state 'v' for (root).layer_with_weights-1.cell.recurrent_kernel\n",
            "WARNING:tensorflow:Unresolved object in checkpoint: (root).optimizer's state 'v' for (root).layer_with_weights-1.cell.bias\n",
            "WARNING:tensorflow:Unresolved object in checkpoint: (root).optimizer's state 'v' for (root).layer_with_weights-2.cell.kernel\n",
            "WARNING:tensorflow:Unresolved object in checkpoint: (root).optimizer's state 'v' for (root).layer_with_weights-2.cell.recurrent_kernel\n",
            "WARNING:tensorflow:Unresolved object in checkpoint: (root).optimizer's state 'v' for (root).layer_with_weights-2.cell.bias\n",
            "WARNING:tensorflow:Unresolved object in checkpoint: (root).optimizer's state 'v' for (root).layer_with_weights-3.cell.kernel\n",
            "WARNING:tensorflow:Unresolved object in checkpoint: (root).optimizer's state 'v' for (root).layer_with_weights-3.cell.recurrent_kernel\n",
            "WARNING:tensorflow:Unresolved object in checkpoint: (root).optimizer's state 'v' for (root).layer_with_weights-3.cell.bias\n",
            "WARNING:tensorflow:A checkpoint was restored (e.g. tf.train.Checkpoint.restore or tf.keras.Model.load_weights) but not all checkpointed values were used. See above for specific issues. Use expect_partial() on the load status object, e.g. tf.train.Checkpoint.restore(...).expect_partial(), to silence these warnings, or use assert_consumed() to make the check explicit. See https://www.tensorflow.org/guide/checkpoint#loading_mechanics for details.\n"
          ]
        }
      ]
    },
    {
      "cell_type": "code",
      "metadata": {
        "colab": {
          "base_uri": "https://localhost:8080/"
        },
        "id": "9OHXKRA0V9k6",
        "outputId": "abfa50d5-0873-4b12-a1c3-e5129a54b5db"
      },
      "source": [
        "for input_example_batch, target_example_batch in dataset.take(1):\n",
        "    example_batch_predictions = model(input_example_batch)\n",
        "    print(example_batch_predictions.shape, \"# (batch_size, sequence_length, vocab_size)\")"
      ],
      "execution_count": 41,
      "outputs": [
        {
          "output_type": "stream",
          "name": "stdout",
          "text": [
            "(64, 100, 131) # (batch_size, sequence_length, vocab_size)\n"
          ]
        }
      ]
    },
    {
      "cell_type": "code",
      "metadata": {
        "colab": {
          "base_uri": "https://localhost:8080/"
        },
        "id": "042IELbKV_GU",
        "outputId": "b3e03713-5029-45e4-8d2c-f46f96ac9478"
      },
      "source": [
        "model.summary()"
      ],
      "execution_count": 42,
      "outputs": [
        {
          "output_type": "stream",
          "name": "stdout",
          "text": [
            "Model: \"sequential_3\"\n",
            "_________________________________________________________________\n",
            "Layer (type)                 Output Shape              Param #   \n",
            "=================================================================\n",
            "embedding_3 (Embedding)      (64, None, 128)           16768     \n",
            "_________________________________________________________________\n",
            "lstm_1 (LSTM)                (64, None, 1024)          4722688   \n",
            "_________________________________________________________________\n",
            "lstm_2 (LSTM)                (64, None, 1024)          8392704   \n",
            "_________________________________________________________________\n",
            "lstm_3 (LSTM)                (64, None, 1024)          8392704   \n",
            "_________________________________________________________________\n",
            "lstm_4 (LSTM)                (64, None, 1024)          8392704   \n",
            "_________________________________________________________________\n",
            "dense_3 (Dense)              (64, None, 131)           134275    \n",
            "=================================================================\n",
            "Total params: 30,051,843\n",
            "Trainable params: 30,051,843\n",
            "Non-trainable params: 0\n",
            "_________________________________________________________________\n"
          ]
        }
      ]
    },
    {
      "cell_type": "code",
      "metadata": {
        "colab": {
          "base_uri": "https://localhost:8080/"
        },
        "id": "BExYcuoOWAjL",
        "outputId": "1def2fdc-0066-4a48-856b-129af5178409"
      },
      "source": [
        "example_batch_predictions[0]"
      ],
      "execution_count": 16,
      "outputs": [
        {
          "output_type": "execute_result",
          "data": {
            "text/plain": [
              "<tf.Tensor: shape=(100, 131), dtype=float32, numpy=\n",
              "array([[ 0.00050865, -0.00072038, -0.00021948, ...,  0.00095393,\n",
              "        -0.00020139, -0.00040815],\n",
              "       [ 0.00155357, -0.00186443, -0.00045575, ...,  0.00222344,\n",
              "        -0.00039067, -0.00081843],\n",
              "       [ 0.0028675 , -0.00303578, -0.00069807, ...,  0.00335905,\n",
              "        -0.00053718, -0.00101423],\n",
              "       ...,\n",
              "       [ 0.00845018, -0.0050537 , -0.00362825, ...,  0.00520635,\n",
              "        -0.00310409,  0.00022997],\n",
              "       [ 0.00849199, -0.00505013, -0.00362504, ...,  0.00519917,\n",
              "        -0.00311358,  0.00022165],\n",
              "       [ 0.00852198, -0.00504748, -0.00362154, ...,  0.00519454,\n",
              "        -0.00311925,  0.00021463]], dtype=float32)>"
            ]
          },
          "metadata": {},
          "execution_count": 16
        }
      ]
    },
    {
      "cell_type": "code",
      "metadata": {
        "id": "X1Uy0TqTWB_j"
      },
      "source": [
        "sampled_indices = tf.random.categorical(example_batch_predictions[0], num_samples=1)\n",
        "sampled_indices = tf.squeeze(sampled_indices,axis=-1).numpy()"
      ],
      "execution_count": 17,
      "outputs": []
    },
    {
      "cell_type": "code",
      "metadata": {
        "colab": {
          "base_uri": "https://localhost:8080/"
        },
        "id": "ND-anXZTWDph",
        "outputId": "a451f0f1-03ec-42b6-a146-5b30eb548e69"
      },
      "source": [
        "print(\"Input: \\n\", repr(\"\".join(idx2char[input_example_batch[0]])))\n",
        "print()\n",
        "print(\"Next Char Predictions: \\n\", repr(\"\".join(idx2char[sampled_indices ])))"
      ],
      "execution_count": 18,
      "outputs": [
        {
          "output_type": "stream",
          "name": "stdout",
          "text": [
            "Input: \n",
            " '    Как листья осенью гнилой.\\n                        Несносно видеть пред собою\\n                   '\n",
            "\n",
            "Next Char Predictions: \n",
            " 'ЧкЛВ,CMМcщp DЬNИжэ\\'СMРвv?ГцmцkaКzеЦumтУ{ИCТюD,ОкЦ!Lзe}qNГ\"УэТбЖ}0СcEЛfvP--mш\\'hQжerОшV65(ЬЕHХ5АщмFOиД'\n"
          ]
        }
      ]
    },
    {
      "cell_type": "code",
      "metadata": {
        "colab": {
          "base_uri": "https://localhost:8080/"
        },
        "id": "Kr2nhAJTWJng",
        "outputId": "df0ee56c-b18b-4e0b-dec3-44aa85408678"
      },
      "source": [
        "def loss(labels, logits):\n",
        "    return tf.keras.losses.sparse_categorical_crossentropy(labels, logits, from_logits=True)\n",
        "\n",
        "example_batch_loss = loss(target_example_batch, example_batch_predictions)\n",
        "print(\"Prediction shape: \", example_batch_predictions.shape, \" # (batch_size, sequence_length, vocab_size)\")\n",
        "print(\"scalar_loss:      \", example_batch_loss.numpy().mean())"
      ],
      "execution_count": 19,
      "outputs": [
        {
          "output_type": "stream",
          "name": "stdout",
          "text": [
            "Prediction shape:  (64, 100, 131)  # (batch_size, sequence_length, vocab_size)\n",
            "scalar_loss:       4.8769684\n"
          ]
        }
      ]
    },
    {
      "cell_type": "code",
      "metadata": {
        "id": "PzbOt_93WLRb"
      },
      "source": [
        "model.compile(optimizer='adam', loss=loss)"
      ],
      "execution_count": 43,
      "outputs": []
    },
    {
      "cell_type": "code",
      "metadata": {
        "id": "qVhGzfEvWaHC"
      },
      "source": [
        "# Directory where the checkpoints will be saved\n",
        "checkpoint_dir = './training_checkpoints'\n",
        "# Name of the checkpoint files\n",
        "checkpoint_prefix = os.path.join(checkpoint_dir, \"ckpt_{epoch}\")\n",
        "\n",
        "checkpoint_callback = tf.keras.callbacks.ModelCheckpoint(\n",
        "    filepath=checkpoint_prefix,\n",
        "    save_freq=88*3,\n",
        "    save_weights_only=True)"
      ],
      "execution_count": 21,
      "outputs": []
    },
    {
      "cell_type": "markdown",
      "metadata": {
        "id": "uMSLDlX5rX5Z"
      },
      "source": [
        "## Обучение"
      ]
    },
    {
      "cell_type": "code",
      "metadata": {
        "colab": {
          "base_uri": "https://localhost:8080/"
        },
        "id": "-qbO9gGdWbiP",
        "outputId": "86a0f618-5a35-4db1-dc04-002458590945"
      },
      "source": [
        "EPOCHS = 20\n",
        "\n",
        "history = model.fit(dataset, epochs=EPOCHS, callbacks=[checkpoint_callback])"
      ],
      "execution_count": 44,
      "outputs": [
        {
          "output_type": "stream",
          "name": "stdout",
          "text": [
            "Epoch 1/20\n",
            "44/44 [==============================] - 38s 735ms/step - loss: 2.5156\n",
            "Epoch 2/20\n",
            "44/44 [==============================] - 33s 746ms/step - loss: 1.9652\n",
            "Epoch 3/20\n",
            "44/44 [==============================] - 33s 750ms/step - loss: 1.7432\n",
            "Epoch 4/20\n",
            "44/44 [==============================] - 34s 766ms/step - loss: 1.6369\n",
            "Epoch 5/20\n",
            "44/44 [==============================] - 33s 747ms/step - loss: 1.5282\n",
            "Epoch 6/20\n",
            "44/44 [==============================] - 33s 746ms/step - loss: 1.4660\n",
            "Epoch 7/20\n",
            "44/44 [==============================] - 33s 747ms/step - loss: 1.4320\n",
            "Epoch 8/20\n",
            "44/44 [==============================] - 33s 746ms/step - loss: 1.3972\n",
            "Epoch 9/20\n",
            "44/44 [==============================] - 33s 746ms/step - loss: 1.3717\n",
            "Epoch 10/20\n",
            "44/44 [==============================] - 34s 767ms/step - loss: 1.3726\n",
            "Epoch 11/20\n",
            "44/44 [==============================] - 33s 748ms/step - loss: 1.3553\n",
            "Epoch 12/20\n",
            "44/44 [==============================] - 33s 746ms/step - loss: 1.3478\n",
            "Epoch 13/20\n",
            "44/44 [==============================] - 33s 747ms/step - loss: 1.3370\n",
            "Epoch 14/20\n",
            "44/44 [==============================] - 33s 748ms/step - loss: 1.3189\n",
            "Epoch 15/20\n",
            "44/44 [==============================] - 33s 747ms/step - loss: 1.3105\n",
            "Epoch 16/20\n",
            "44/44 [==============================] - 34s 772ms/step - loss: 1.2990\n",
            "Epoch 17/20\n",
            "44/44 [==============================] - 33s 749ms/step - loss: 1.2906\n",
            "Epoch 18/20\n",
            "44/44 [==============================] - 33s 746ms/step - loss: 1.2892\n",
            "Epoch 19/20\n",
            "44/44 [==============================] - 33s 745ms/step - loss: 1.2863\n",
            "Epoch 20/20\n",
            "44/44 [==============================] - 33s 748ms/step - loss: 1.2612\n"
          ]
        }
      ]
    },
    {
      "cell_type": "code",
      "metadata": {
        "colab": {
          "base_uri": "https://localhost:8080/",
          "height": 36
        },
        "id": "-q3af0Y1Wfan",
        "outputId": "aa90322d-99ff-4c45-c305-025aa47bf9bd"
      },
      "source": [
        "tf.train.latest_checkpoint(checkpoint_dir)"
      ],
      "execution_count": 45,
      "outputs": [
        {
          "output_type": "execute_result",
          "data": {
            "application/vnd.google.colaboratory.intrinsic+json": {
              "type": "string"
            },
            "text/plain": [
              "'./training_checkpoints/ckpt_16'"
            ]
          },
          "metadata": {},
          "execution_count": 45
        }
      ]
    },
    {
      "cell_type": "code",
      "metadata": {
        "id": "7-VGvCsgWgq_"
      },
      "source": [
        "model = build_model(vocab_size, embedding_dim, rnn_units, batch_size=1)\n",
        "model.load_weights(tf.train.latest_checkpoint(checkpoint_dir))\n",
        "model.build(tf.TensorShape([1, None]))"
      ],
      "execution_count": 46,
      "outputs": []
    },
    {
      "cell_type": "code",
      "metadata": {
        "colab": {
          "base_uri": "https://localhost:8080/"
        },
        "id": "4KCG9muaWiYD",
        "outputId": "15c9bcb2-2ed9-4c4a-821f-10cc21d5ceee"
      },
      "source": [
        "model.summary()"
      ],
      "execution_count": 47,
      "outputs": [
        {
          "output_type": "stream",
          "name": "stdout",
          "text": [
            "Model: \"sequential_4\"\n",
            "_________________________________________________________________\n",
            "Layer (type)                 Output Shape              Param #   \n",
            "=================================================================\n",
            "embedding_4 (Embedding)      (1, None, 128)            16768     \n",
            "_________________________________________________________________\n",
            "lstm_5 (LSTM)                (1, None, 1024)           4722688   \n",
            "_________________________________________________________________\n",
            "lstm_6 (LSTM)                (1, None, 1024)           8392704   \n",
            "_________________________________________________________________\n",
            "lstm_7 (LSTM)                (1, None, 1024)           8392704   \n",
            "_________________________________________________________________\n",
            "lstm_8 (LSTM)                (1, None, 1024)           8392704   \n",
            "_________________________________________________________________\n",
            "dense_4 (Dense)              (1, None, 131)            134275    \n",
            "=================================================================\n",
            "Total params: 30,051,843\n",
            "Trainable params: 30,051,843\n",
            "Non-trainable params: 0\n",
            "_________________________________________________________________\n"
          ]
        }
      ]
    },
    {
      "cell_type": "code",
      "metadata": {
        "id": "OxpmM5caWpuZ"
      },
      "source": [
        "def generate_text(model, start_string, temperature = 0.5):\n",
        "    # Evaluation step (generating text using the learned model)\n",
        "\n",
        "    # Number of characters to generate\n",
        "    num_generate = 500\n",
        "\n",
        "    # Converting our start string to numbers (vectorizing)\n",
        "    input_eval = [char2idx[s] for s in start_string]\n",
        "    input_eval = tf.expand_dims(input_eval, 0)\n",
        "\n",
        "    # Empty string to store our results\n",
        "    text_generated = []\n",
        "\n",
        "    # Here batch size == 1\n",
        "    model.reset_states()\n",
        "    for i in range(num_generate):\n",
        "        predictions = model(input_eval)\n",
        "        predictions = tf.squeeze(predictions, 0)\n",
        "        # using a categorical distribution to predict the character returned by the model\n",
        "        predictions = predictions / temperature\n",
        "        predicted_id = tf.random.categorical(predictions, num_samples=1)[-1, 0].numpy()\n",
        "\n",
        "        # Pass the predicted character as the next input to the model\n",
        "        # along with the previous hidden state\n",
        "        input_eval = tf.expand_dims([predicted_id], 0)\n",
        "\n",
        "        text_generated.append(idx2char[predicted_id])\n",
        "\n",
        "    return (start_string + ''.join(text_generated))"
      ],
      "execution_count": 36,
      "outputs": []
    },
    {
      "cell_type": "markdown",
      "metadata": {
        "id": "8BuMWFM_ra7p"
      },
      "source": [
        "## Подбор параметра temperature"
      ]
    },
    {
      "cell_type": "code",
      "metadata": {
        "colab": {
          "base_uri": "https://localhost:8080/"
        },
        "id": "_M3zYugkWriq",
        "outputId": "a2b640ab-a29d-48a7-a520-c34ea05748e9"
      },
      "source": [
        "for temperature in np.arange(0.1, 1.5, 0.1):\n",
        "  text_ = generate_text(model, start_string=u\"Вниманье дружбы возлюбя \", temperature=temperature)\n",
        "  print(f\"temperature={temperature}\")\n",
        "  print(text_)\n",
        "  print(f\"{'=' * 50}\")"
      ],
      "execution_count": 48,
      "outputs": [
        {
          "output_type": "stream",
          "name": "stdout",
          "text": [
            "temperature=0.1\n",
            "Вниманье дружбы возлюбя стет,\n",
            "                                                                                                                                                                                                                                                                                                                                                                                                                                                                                                              \n",
            "==================================================\n",
            "temperature=0.2\n",
            "Вниманье дружбы возлюбя стет,\n",
            "                                                                                                                                                                                                                                                                                                                                                                                                                                                                                                              \n",
            "==================================================\n",
            "temperature=0.30000000000000004\n",
            "Вниманье дружбы возлюбя сво,\n",
            "                                                                                                                                                                                                                                                                                                                                                                                                                                                                                                               \n",
            "==================================================\n",
            "temperature=0.4\n",
            "Вниманье дружбы возлюбя стол.\n",
            "                                                                                                                                                                                                                                                                                                                                                                                                                                                 XXII\n",
            "\n",
            "                                                       \n",
            "==================================================\n",
            "temperature=0.5\n",
            "Вниманье дружбы возлюбя                                                                                                                  XXIII\n",
            "\n",
            "                                                                                                                                                                                                          LLII\n",
            "\n",
            "                         Вте на позни в тесто с тавет\n",
            "                                                                                                                      \n",
            "==================================================\n",
            "temperature=0.6\n",
            "Вниманье дружбы возлюбя полный\n",
            "                                И тосе частила натнат,\n",
            "                           Сдо, болдасть тада. - . . . . i . . .\n",
            "                      Наборна ве сста телгалет,\n",
            "                                                                                              И на жедде сза на на блевенья,\n",
            "                        И дата в пестей сматилья\n",
            "                                                                                         И дузав вирный сторат,\n",
            "\n",
            "                                      \n",
            "==================================================\n",
            "temperature=0.7000000000000001\n",
            "Вниманье дружбы возлюбя слев,\n",
            "                                                 XIII\n",
            "\n",
            "                                                                                                                                                       Ид!\n",
            "\n",
            "                            И\n",
            "\n",
            "                                                                           XXXII\n",
            "\n",
            "                                     Хредат и стоднас имлала,\n",
            "                          У не снагит э на бад мрем;\n",
            "                                                       \n",
            "==================================================\n",
            "temperature=0.8\n",
            "Вниманье дружбы возлюбя край,\n",
            "                         Огранать в груюм каристь,\n",
            "                           На ягалана с дытоней\n",
            "                        О мери бедь теба пыглотет,\n",
            "                        Уе долдцох свтах бат отыстей\n",
            "                              Зе ин в порелний питьтных лаю;\n",
            "                                                    wVVI\n",
            "\n",
            "                               XVV\n",
            "\n",
            "                                                                   Одад у та несчат ихшажан.\n",
            "                          \"Унь начта жаз на\n",
            "==================================================\n",
            "temperature=0.9\n",
            "Вниманье дружбы возлюбя Адьти;\n",
            "                        И стема жезд охность,\n",
            "                        Ухете не жастькы дестлонут,\n",
            "                       Кражогыю придил                        Сдохерхя свов бот ненусной,\n",
            "                        И мностий сакожи, стам,\n",
            "                        Зиий свражит гапдов,\n",
            "                        И брастьлиный кребод натве,\n",
            "                            И на вкеял с мевом и боть.\n",
            "                       Пдо нувкансямо линать\n",
            "                        Помак валда обня вмо влона\n",
            "         \n",
            "==================================================\n",
            "temperature=1.0\n",
            "Вниманье дружбы возлюбя влида,\n",
            "                       Кавьтя стребыле,\n",
            "\n",
            "                                 Пы,ддаме тевазттяхо\n",
            "                         И владате ипзята, матеть...\n",
            "                           Тлудны злуды пать дыдной Ле,\n",
            "                          И выпни яй           И не влакной мит етлинял,\n",
            "                                           XXII\n",
            "\n",
            "                         ИI пай прежехывсеми ягне\n",
            "                             И на пазчя ел отурили шед.\n",
            "                         Кде о макяйнью,\n",
            "                     \n",
            "==================================================\n",
            "temperature=1.1\n",
            "Вниманье дружбы возлюбя мот!\n",
            "\n",
            "                                      XVVVII.\n",
            "\n",
            "                                  ПоI\n",
            "\n",
            "                         Ссе,,\n",
            "             Пдир телчой торенчыю ровнех\n",
            "                       Пастуба гдериннех отын,;..\n",
            "\n",
            "      Е тийдита,\n",
            "                        Лю туркель оей юднат,\n",
            "                         Млатни дие, в он дажже слиди,\n",
            "                        Вскель глегец: Фет Лик вачь,\n",
            "                         Я прод Салуюсь Дира,\n",
            "                        \n",
            "Тсе жтущы бворетсваю втост,\n",
            "               \n",
            "==================================================\n",
            "temperature=1.2000000000000002\n",
            "Вниманье дружбы возлюбя Фнитмо,\n",
            "                        Баей ни бсд он глита?\n",
            "                       езта на паделса ина.\n",
            "\n",
            "              Яп.I свгяхай,\n",
            "                       На зна жумый нем ей идип!\n",
            "                           Чхита зсмнринный тлетол.\n",
            "                        Ие тывайть нежену дарни\n",
            "                        Но мте: цокалу тво, дося!\n",
            "     Ядь ссы вхырге;\n",
            "                       О яе рытоa\n",
            "\n",
            "                         И в млулиц шылшетыщие,.\n",
            "                        О висьдненья .\n",
            "\n",
            "                          Ощя\n",
            "==================================================\n",
            "temperature=1.3000000000000003\n",
            "Вниманье дружбы возлюбя            И напя ухгелат\" {И лозне.\n",
            "                           О  Бдязенат и ник впизь,\n",
            "                          Тхозннажной впровой эвжоган,\n",
            "         Унагь вижлый опать подый.\n",
            "    Хевмемя,\n",
            "   Чру нюбойвней; гавел,\n",
            "                       Длали, теI нне, тал ите брад;\n",
            "                        По с ясмвя струщнуть, прягорелсс\n",
            "                       Пазнигги с Тилной го жсочерный,\n",
            "             -  (       Давтвилати з оu3aЧлнал\n",
            "                         Но дмат \"Скышшей в игатну,\n",
            "                   \n",
            "==================================================\n",
            "temperature=1.4000000000000001\n",
            "Вниманье дружбы возлюбя Одно\n",
            "                        Мажьял бхепаена мрыспокихмь,\n",
            "             Лентто сзлросмия бефдулкне.\n",
            "\n",
            "                Ниждов, ий ий садов яйц\n",
            "АnoIi},\n",
            "  ой бирвеный?.\"\n",
            "                    а лане\n",
            "                       Ялкее тракяхжыс срьбра,\n",
            "                   хам слуницсзяе, Юсоехный\n",
            "                       Вко ксрытиньни.у гува,\n",
            "   укором Лак,\n",
            "               О,\n",
            ".                      Илетат\n",
            "                       Зо Ми!\n",
            "              Пегикне\n",
            "                        И поййцныхзяте: чиб досттоты пи\n",
            "\n",
            "==================================================\n"
          ]
        }
      ]
    },
    {
      "cell_type": "markdown",
      "metadata": {
        "id": "A6pFftp0rjM3"
      },
      "source": [
        "## Вывод\n",
        "\n",
        "Сгенерированный текст наиболее похож на \"текст\" при temperature=0.9"
      ]
    }
  ]
}